{
 "cells": [
  {
   "cell_type": "markdown",
   "metadata": {
    "collapsed": true,
    "pycharm": {
     "name": "#%% md\n"
    }
   },
   "source": [
    "# Stable sort demo\n"
   ]
  },
  {
   "cell_type": "code",
   "execution_count": 8,
   "metadata": {
    "pycharm": {
     "name": "#%%\n"
    }
   },
   "outputs": [],
   "source": [
    "def qsort(lst, lo, hi, key=lambda x: x):\n",
    "    if hi - lo <= 1:\n",
    "        return\n",
    "    pivot = lst[lo]\n",
    "    k = lo + 1\n",
    "    g = hi - 1\n",
    "    while k <= g:\n",
    "        while k <= g and key(lst[k]) <= key(pivot):\n",
    "            k += 1\n",
    "        while k <= g and key(lst[g]) >= key(pivot):\n",
    "            g -= 1\n",
    "        if k < g:\n",
    "            lst[k], lst[g] = lst[g], lst[k]\n",
    "            k += 1\n",
    "            g -= 1\n",
    "    lst[lo], lst[g] = lst[g], lst[lo]\n",
    "    qsort(lst, lo, g, key)\n",
    "    qsort(lst, g+1, hi, key)\n",
    "\n",
    "def unstable_sorted(lst, key):\n",
    "    copy = lst[:]\n",
    "    qsort(copy, 0, len(copy), key)\n",
    "    return copy"
   ]
  },
  {
   "cell_type": "code",
   "execution_count": 9,
   "metadata": {
    "pycharm": {
     "name": "#%%\n"
    }
   },
   "outputs": [],
   "source": [
    "simpsons_characters = [\n",
    "    ['Homer', 'Simpson'],\n",
    "    ['Ralph', 'Wiggum'],\n",
    "    ['Maggie', 'Simpson'],\n",
    "    ['Abraham', 'Simpson'],\n",
    "    ['Cletus', 'Spuckler'],\n",
    "    ['Barney', 'Gumble'],\n",
    "    ['Bart', 'Simpson'],\n",
    "    ['Hans', 'Moleman'],\n",
    "    ['Ned', 'Flanders'],\n",
    "    ['Edna', 'Krabappel'],\n",
    "    ['Lenny', 'Leonard'],\n",
    "    ['Jimbo', 'Jones'],\n",
    "    ['John', 'Frink'],\n",
    "    ['Agnes', 'Skinner'],\n",
    "    ['Martin', 'Prince'],\n",
    "    ['Fat', 'Tony'],\n",
    "    ['Marge', 'Simpson'],\n",
    "    ['Otto', 'Mann'],\n",
    "    ['Troy', 'Mcclure'],\n",
    "    ['Moe', 'Szyslak'],\n",
    "    ['Apu', 'Nahasapeemapetilon'],\n",
    "    ['Patty', 'Bouvier'],\n",
    "    ['Lisa', 'Simpson'],\n",
    "    ['Chief', 'Wiggum'],\n",
    "    ['Kent', 'Brockman'],\n",
    "    ['Waylon', 'Smithers'],\n",
    "    ['Jasper', 'Beardly'],\n",
    "    ['Nelson', 'Muntz'],\n",
    "    ['Principal', 'Skinner'],\n",
    "    ['Helen', 'Lovejoy'],\n",
    "    ['Carl', 'Carlson'],\n",
    "    ['Lionel', 'Hutz'],\n",
    "    ['Milhouse', 'Van Houten'],\n",
    "    ['Selma', 'Bouvier'],\n",
    "    ['C. Montgomery', 'Burns'],\n",
    "    ['Snake', 'Jailbird'],\n",
    "    ['Rainier', 'Wolfcastle'],\n",
    "]\n",
    "\n",
    "def print_table(lst):\n",
    "    for character in lst:\n",
    "        print(f'{character[0]:13} {character[1]}')\n",
    "\n"
   ]
  },
  {
   "cell_type": "code",
   "execution_count": 10,
   "metadata": {},
   "outputs": [
    {
     "name": "stdout",
     "output_type": "stream",
     "text": [
      "Homer         Simpson\n",
      "Ralph         Wiggum\n",
      "Maggie        Simpson\n",
      "Abraham       Simpson\n",
      "Cletus        Spuckler\n",
      "Barney        Gumble\n",
      "Bart          Simpson\n",
      "Hans          Moleman\n",
      "Ned           Flanders\n",
      "Edna          Krabappel\n",
      "Lenny         Leonard\n",
      "Jimbo         Jones\n",
      "John          Frink\n",
      "Agnes         Skinner\n",
      "Martin        Prince\n",
      "Fat           Tony\n",
      "Marge         Simpson\n",
      "Otto          Mann\n",
      "Troy          Mcclure\n",
      "Moe           Szyslak\n",
      "Apu           Nahasapeemapetilon\n",
      "Patty         Bouvier\n",
      "Lisa          Simpson\n",
      "Chief         Wiggum\n",
      "Kent          Brockman\n",
      "Waylon        Smithers\n",
      "Jasper        Beardly\n",
      "Nelson        Muntz\n",
      "Principal     Skinner\n",
      "Helen         Lovejoy\n",
      "Carl          Carlson\n",
      "Lionel        Hutz\n",
      "Milhouse      Van Houten\n",
      "Selma         Bouvier\n",
      "C. Montgomery Burns\n",
      "Snake         Jailbird\n",
      "Rainier       Wolfcastle\n"
     ]
    }
   ],
   "source": [
    "print_table(simpsons_characters)"
   ]
  },
  {
   "cell_type": "code",
   "execution_count": 11,
   "metadata": {
    "pycharm": {
     "name": "#%%\n"
    }
   },
   "outputs": [
    {
     "name": "stdout",
     "output_type": "stream",
     "text": [
      "Abraham       Simpson\n",
      "Agnes         Skinner\n",
      "Apu           Nahasapeemapetilon\n",
      "Barney        Gumble\n",
      "Bart          Simpson\n",
      "C. Montgomery Burns\n",
      "Carl          Carlson\n",
      "Chief         Wiggum\n",
      "Cletus        Spuckler\n",
      "Edna          Krabappel\n",
      "Fat           Tony\n",
      "Hans          Moleman\n",
      "Helen         Lovejoy\n",
      "Homer         Simpson\n",
      "Jasper        Beardly\n",
      "Jimbo         Jones\n",
      "John          Frink\n",
      "Kent          Brockman\n",
      "Lenny         Leonard\n",
      "Lionel        Hutz\n",
      "Lisa          Simpson\n",
      "Maggie        Simpson\n",
      "Marge         Simpson\n",
      "Martin        Prince\n",
      "Milhouse      Van Houten\n",
      "Moe           Szyslak\n",
      "Ned           Flanders\n",
      "Nelson        Muntz\n",
      "Otto          Mann\n",
      "Patty         Bouvier\n",
      "Principal     Skinner\n",
      "Rainier       Wolfcastle\n",
      "Ralph         Wiggum\n",
      "Selma         Bouvier\n",
      "Snake         Jailbird\n",
      "Troy          Mcclure\n",
      "Waylon        Smithers\n"
     ]
    }
   ],
   "source": [
    "by_first = unstable_sorted(simpsons_characters, key=lambda x: x[0])\n",
    "print_table(by_first)"
   ]
  },
  {
   "cell_type": "code",
   "execution_count": 15,
   "metadata": {
    "pycharm": {
     "name": "#%%\n"
    }
   },
   "outputs": [
    {
     "name": "stdout",
     "output_type": "stream",
     "text": [
      "Jasper        Beardly\n",
      "Selma         Bouvier\n",
      "Patty         Bouvier\n",
      "Kent          Brockman\n",
      "C. Montgomery Burns\n",
      "Carl          Carlson\n",
      "Ned           Flanders\n",
      "John          Frink\n",
      "Barney        Gumble\n",
      "Lionel        Hutz\n",
      "Snake         Jailbird\n",
      "Jimbo         Jones\n",
      "Edna          Krabappel\n",
      "Lenny         Leonard\n",
      "Helen         Lovejoy\n",
      "Otto          Mann\n",
      "Troy          Mcclure\n",
      "Hans          Moleman\n",
      "Nelson        Muntz\n",
      "Apu           Nahasapeemapetilon\n",
      "Martin        Prince\n",
      "Marge         Simpson\n",
      "Maggie        Simpson\n",
      "Homer         Simpson\n",
      "Bart          Simpson\n",
      "Lisa          Simpson\n",
      "Abraham       Simpson\n",
      "Principal     Skinner\n",
      "Agnes         Skinner\n",
      "Waylon        Smithers\n",
      "Cletus        Spuckler\n",
      "Moe           Szyslak\n",
      "Fat           Tony\n",
      "Milhouse      Van Houten\n",
      "Chief         Wiggum\n",
      "Ralph         Wiggum\n",
      "Rainier       Wolfcastle\n"
     ]
    }
   ],
   "source": [
    "by_last = unstable_sorted(by_first, key=lambda x: x[1])\n",
    "print_table(by_last)"
   ]
  },
  {
   "cell_type": "code",
   "execution_count": 13,
   "metadata": {
    "pycharm": {
     "name": "#%%\n"
    }
   },
   "outputs": [
    {
     "name": "stdout",
     "output_type": "stream",
     "text": [
      "Abraham       Simpson\n",
      "Agnes         Skinner\n",
      "Apu           Nahasapeemapetilon\n",
      "Barney        Gumble\n",
      "Bart          Simpson\n",
      "C. Montgomery Burns\n",
      "Carl          Carlson\n",
      "Chief         Wiggum\n",
      "Cletus        Spuckler\n",
      "Edna          Krabappel\n",
      "Fat           Tony\n",
      "Hans          Moleman\n",
      "Helen         Lovejoy\n",
      "Homer         Simpson\n",
      "Jasper        Beardly\n",
      "Jimbo         Jones\n",
      "John          Frink\n",
      "Kent          Brockman\n",
      "Lenny         Leonard\n",
      "Lionel        Hutz\n",
      "Lisa          Simpson\n",
      "Maggie        Simpson\n",
      "Marge         Simpson\n",
      "Martin        Prince\n",
      "Milhouse      Van Houten\n",
      "Moe           Szyslak\n",
      "Ned           Flanders\n",
      "Nelson        Muntz\n",
      "Otto          Mann\n",
      "Patty         Bouvier\n",
      "Principal     Skinner\n",
      "Rainier       Wolfcastle\n",
      "Ralph         Wiggum\n",
      "Selma         Bouvier\n",
      "Snake         Jailbird\n",
      "Troy          Mcclure\n",
      "Waylon        Smithers\n"
     ]
    }
   ],
   "source": [
    "by_first = sorted(simpsons_characters, key=lambda x: x[0])\n",
    "print_table(by_first)"
   ]
  },
  {
   "cell_type": "code",
   "execution_count": 14,
   "metadata": {
    "pycharm": {
     "name": "#%%\n"
    }
   },
   "outputs": [
    {
     "name": "stdout",
     "output_type": "stream",
     "text": [
      "Jasper        Beardly\n",
      "Patty         Bouvier\n",
      "Selma         Bouvier\n",
      "Kent          Brockman\n",
      "C. Montgomery Burns\n",
      "Carl          Carlson\n",
      "Ned           Flanders\n",
      "John          Frink\n",
      "Barney        Gumble\n",
      "Lionel        Hutz\n",
      "Snake         Jailbird\n",
      "Jimbo         Jones\n",
      "Edna          Krabappel\n",
      "Lenny         Leonard\n",
      "Helen         Lovejoy\n",
      "Otto          Mann\n",
      "Troy          Mcclure\n",
      "Hans          Moleman\n",
      "Nelson        Muntz\n",
      "Apu           Nahasapeemapetilon\n",
      "Martin        Prince\n",
      "Abraham       Simpson\n",
      "Bart          Simpson\n",
      "Homer         Simpson\n",
      "Lisa          Simpson\n",
      "Maggie        Simpson\n",
      "Marge         Simpson\n",
      "Agnes         Skinner\n",
      "Principal     Skinner\n",
      "Waylon        Smithers\n",
      "Cletus        Spuckler\n",
      "Moe           Szyslak\n",
      "Fat           Tony\n",
      "Milhouse      Van Houten\n",
      "Chief         Wiggum\n",
      "Ralph         Wiggum\n",
      "Rainier       Wolfcastle\n"
     ]
    }
   ],
   "source": [
    "by_last = sorted(by_first, key=lambda x: x[1])\n",
    "print_table(by_last)"
   ]
  }
 ],
 "metadata": {
  "kernelspec": {
   "display_name": "Python 3 (ipykernel)",
   "language": "python",
   "name": "python3"
  },
  "language_info": {
   "codemirror_mode": {
    "name": "ipython",
    "version": 3
   },
   "file_extension": ".py",
   "mimetype": "text/x-python",
   "name": "python",
   "nbconvert_exporter": "python",
   "pygments_lexer": "ipython3",
   "version": "3.8.10"
  }
 },
 "nbformat": 4,
 "nbformat_minor": 1
}
