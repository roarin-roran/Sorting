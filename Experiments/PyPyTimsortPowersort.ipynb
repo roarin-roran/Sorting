{
 "cells": [
  {
   "cell_type": "markdown",
   "metadata": {
    "collapsed": true
   },
   "source": [
    "# Timsort vs Powersort\n",
    "\n",
    "## Preliminaries\n",
    "\n",
    "2023-03-20 Confirmed that the PyPy implementations of Timsort and Powersort\n",
    "yield the same comparison counts as the CPython implementations.\n",
    "\n",
    "\n",
    "NB: Careful, when checking this we need to run the sorting call of the list through the\n",
    "instrumented cpython copies with print debug enabled, by then we have to run `run_information.py`\n",
    "through the copy of cpython that does *not* print debug info\n",
    "(as the rank reduction induces extra comparisons),\n",
    "but we must use the correct sort implementation to get the correct comparison count.\n",
    "\n",
    "But, long story short, we can use the following two implementations for our purposes,\n",
    "as they yielded identical results.\n"
   ]
  },
  {
   "cell_type": "code",
   "execution_count": 1,
   "metadata": {},
   "outputs": [
    {
     "name": "stdout",
     "output_type": "stream",
     "text": [
      "Running Powersort\n",
      "Comparisons: 119877\n",
      "Eq Comparisons: 0\n",
      "MergeCosts: 79760\n",
      "Running Timsort\n",
      "Comparisons: 119954\n",
      "Eq Comparisons: 0\n",
      "MergeCosts: 79840\n"
     ]
    }
   ],
   "source": [
    "%load_ext autoreload\n",
    "%autoreload 2\n",
    "import Support.Counters as Counters\n",
    "import PyPySorters.listsort_powersort\n",
    "import PyPySorters.listsort_timsort\n",
    "import random\n",
    "\n",
    "random.seed(2348905739)\n",
    "A = list(range(10000))\n",
    "random.shuffle(A)\n",
    "\n",
    "C = [Counters.ComparisonCounter(x) for x in A]\n",
    "print(\"Running Powersort\")\n",
    "Counters.reset_counters()\n",
    "PyPySorters.listsort_powersort.sort(C)\n",
    "Counters.print_counters()\n",
    "C = [Counters.ComparisonCounter(x) for x in A]\n",
    "print(\"Running Timsort\")\n",
    "Counters.reset_counters()\n",
    "PyPySorters.listsort_timsort.sort(C)\n",
    "Counters.print_counters()\n"
   ]
  },
  {
   "cell_type": "markdown",
   "metadata": {},
   "source": [
    "## Experiments\n",
    "\n",
    "Now for a more systematic approach.\n",
    "\n",
    "### Init:"
   ]
  },
  {
   "cell_type": "code",
   "execution_count": 2,
   "metadata": {},
   "outputs": [
    {
     "name": "stdout",
     "output_type": "stream",
     "text": [
      "The autoreload extension is already loaded. To reload it, use:\n",
      "  %reload_ext autoreload\n"
     ]
    }
   ],
   "source": [
    "%load_ext autoreload\n",
    "%autoreload 2\n",
    "import random\n",
    "import pandas as pd\n",
    "import matplotlib.pylab as plt\n",
    "\n",
    "import PyPySorters.listsort_powersort as powersort\n",
    "import PyPySorters.listsort_timsort as timsort\n",
    "import Support.Counters as Counters\n",
    "import Inputs.Inputs as Inputs\n",
    "\n",
    "\n",
    "\n",
    "def cost(lst, sorter):\n",
    "    wrapped = [Counters.ComparisonCounter(x) for x in lst]\n",
    "    Counters.reset_counters()\n",
    "    sorter.sort(wrapped)\n",
    "    assert Counters.ComparisonCounter.EQ_COMPARISONS == 0\n",
    "    return {\n",
    "        # 'algo': sorter.name(),\n",
    "        'mc': Counters.MergeCosts.MERGECOST,\n",
    "        'cmps': Counters.ComparisonCounter.COMPARISONS,\n",
    "        'input-hash': hash(tuple(lst)),\n",
    "    }\n",
    "\n",
    "\n",
    "def differences(repetitions, input_generator):\n",
    "    diffs = pd.DataFrame()\n",
    "    for _ in range(repetitions):\n",
    "        A = input_generator()\n",
    "        ps = cost(A, powersort)\n",
    "        ts = cost(A, timsort)\n",
    "        diff = {}\n",
    "        diff['algo'] = 'timsort-over-powersort'\n",
    "        diff['mc'] = 1.0*ts['mc'] / ps['mc']\n",
    "        diff['cmps'] = 1.0*ts['cmps'] / ps['cmps']\n",
    "        diff['mc-diff'] = 1.0 * ts['mc'] - ps['mc']\n",
    "        diff['cmps-diff'] = 1.0 * ts['cmps'] - ps['cmps']\n",
    "        diff['mc-powersort'] = ps['mc']\n",
    "        diff['cmps-powersort'] = ps['cmps']\n",
    "        diff['input-hash'] = ps['input-hash']\n",
    "        diffs = diffs.append(diff, ignore_index=True)\n",
    "    return diffs"
   ]
  },
  {
   "cell_type": "markdown",
   "metadata": {},
   "source": [
    "### Random Permutations\n",
    "\n",
    "For random permutations, not too much is saved,\n",
    "but at least we hard do worse.\n"
   ]
  },
  {
   "cell_type": "code",
   "execution_count": 3,
   "metadata": {},
   "outputs": [
    {
     "name": "stdout",
     "output_type": "stream",
     "text": [
      "count    2.000000e+02\n",
      "mean     1.001003e+00\n",
      "std      2.226018e-16\n",
      "min      1.001003e+00\n",
      "1%       1.001003e+00\n",
      "5%       1.001003e+00\n",
      "10%      1.001003e+00\n",
      "25%      1.001003e+00\n",
      "50%      1.001003e+00\n",
      "75%      1.001003e+00\n",
      "max      1.001003e+00\n",
      "Name: mc, dtype: float64\n",
      "count    200.000000\n",
      "mean       1.000666\n",
      "std        0.000207\n",
      "min        1.000134\n",
      "1%         1.000233\n",
      "5%         1.000350\n",
      "10%        1.000401\n",
      "25%        1.000526\n",
      "50%        1.000651\n",
      "75%        1.000803\n",
      "max        1.001269\n",
      "Name: cmps, dtype: float64\n"
     ]
    }
   ],
   "source": [
    "n = 10000\n",
    "sqrtn = int(n ** 0.5)\n",
    "reps = 200\n",
    "\n",
    "RNG = random.Random(2348905734)\n",
    "diffs = differences(reps, lambda: Inputs.random_permutation(n, RNG))\n",
    "#print(diffs)\n",
    "print(diffs['mc']  .describe(percentiles=[0.01, 0.05, 0.1, .25, .5, .75]))\n",
    "print(diffs['cmps'].describe(percentiles=[0.01, 0.05, 0.1, .25, .5, .75]))"
   ]
  },
  {
   "cell_type": "code",
   "execution_count": 4,
   "metadata": {},
   "outputs": [
    {
     "data": {
      "text/plain": "<Figure size 432x288 with 1 Axes>",
      "image/png": "[encoded data removed]"
     },
     "metadata": {
      "needs_background": "light"
     },
     "output_type": "display_data"
    },
    {
     "data": {
      "text/plain": "(array([ 4.,  8., 28., 31., 52., 31., 26., 11.,  7.,  2.]),\n array([1.00013354, 1.00024708, 1.00036061, 1.00047415, 1.00058769,\n        1.00070122, 1.00081476, 1.0009283 , 1.00104183, 1.00115537,\n        1.00126891]),\n <a list of 10 Patch objects>)"
     },
     "execution_count": 4,
     "metadata": {},
     "output_type": "execute_result"
    },
    {
     "data": {
      "text/plain": "<Figure size 432x288 with 1 Axes>",
      "image/png": "[encoded data removed]"
     },
     "metadata": {
      "needs_background": "light"
     },
     "output_type": "display_data"
    }
   ],
   "source": [
    "plt.hist(diffs['mc'])\n",
    "plt.show()\n",
    "plt.hist(diffs['cmps'])\n"
   ]
  },
  {
   "cell_type": "markdown",
   "metadata": {},
   "source": [
    "### Expected $\\sqrt n$ Random Runs"
   ]
  },
  {
   "cell_type": "code",
   "execution_count": 5,
   "metadata": {},
   "outputs": [
    {
     "name": "stdout",
     "output_type": "stream",
     "text": [
      "                       algo      cmps  cmps-diff  cmps-powersort  \\\n",
      "0    timsort-over-powersort  1.041240     3054.0         74054.0   \n",
      "1    timsort-over-powersort  1.027431     2061.0         75134.0   \n",
      "2    timsort-over-powersort  1.017574     1279.0         72777.0   \n",
      "3    timsort-over-powersort  1.017495     1300.0         74309.0   \n",
      "4    timsort-over-powersort  1.062275     4726.0         75889.0   \n",
      "..                      ...       ...        ...             ...   \n",
      "195  timsort-over-powersort  1.064602     4873.0         75431.0   \n",
      "196  timsort-over-powersort  1.042946     3200.0         74513.0   \n",
      "197  timsort-over-powersort  1.024837     1888.0         76016.0   \n",
      "198  timsort-over-powersort  1.006901      506.0         73322.0   \n",
      "199  timsort-over-powersort  1.032119     2423.0         75438.0   \n",
      "\n",
      "       input-hash        mc  mc-diff  mc-powersort  \n",
      "0    6.644946e+18  1.051520   3231.0       62713.0  \n",
      "1    4.226510e+18  1.032988   2099.0       63630.0  \n",
      "2   -7.853696e+18  1.012366    769.0       62186.0  \n",
      "3    4.236634e+16  1.018604   1171.0       62945.0  \n",
      "4   -1.415891e+17  1.075815   4843.0       63879.0  \n",
      "..            ...       ...      ...           ...  \n",
      "195  8.530472e+18  1.075613   4833.0       63918.0  \n",
      "196 -5.030300e+18  1.062659   3975.0       63439.0  \n",
      "197  3.950142e+18  1.061492   3994.0       64952.0  \n",
      "198  5.859866e+18  1.007225    451.0       62421.0  \n",
      "199 -9.150634e+18  1.047300   3032.0       64101.0  \n",
      "\n",
      "[200 rows x 8 columns]\n",
      "count    200.000000\n",
      "mean       1.050975\n",
      "std        0.037926\n",
      "min        0.990703\n",
      "1%         0.995265\n",
      "5%         1.003763\n",
      "10%        1.010229\n",
      "25%        1.021294\n",
      "50%        1.044302\n",
      "75%        1.069432\n",
      "max        1.176370\n",
      "Name: mc, dtype: float64\n",
      "count    200.000000\n",
      "mean       1.030370\n",
      "std        0.020695\n",
      "min        0.996263\n",
      "1%         0.997585\n",
      "5%         1.001788\n",
      "10%        1.005419\n",
      "25%        1.016399\n",
      "50%        1.026554\n",
      "75%        1.042048\n",
      "max        1.088662\n",
      "Name: cmps, dtype: float64\n"
     ]
    }
   ],
   "source": [
    "n = 10000\n",
    "sqrtn = int(n ** 0.5)\n",
    "reps = 200\n",
    "\n",
    "RNG = random.Random(2348905734)\n",
    "diffs = differences(reps, lambda: Inputs.random_runs(n, sqrtn, RNG))\n",
    "print(diffs)\n",
    "print(diffs['mc']  .describe(percentiles=[0.01, 0.05, 0.1, .25, .5, .75]))\n",
    "print(diffs['cmps'].describe(percentiles=[0.01, 0.05, 0.1, .25, .5, .75]))"
   ]
  },
  {
   "cell_type": "code",
   "execution_count": 6,
   "metadata": {},
   "outputs": [
    {
     "data": {
      "text/plain": "<Figure size 432x288 with 1 Axes>",
      "image/png": "[encoded data removed]"
     },
     "metadata": {
      "needs_background": "light"
     },
     "output_type": "display_data"
    },
    {
     "data": {
      "text/plain": "(array([21., 23., 44., 34., 28., 19., 12.,  8.,  5.,  6.]),\n array([0.99626307, 1.00550295, 1.01474282, 1.0239827 , 1.03322258,\n        1.04246246, 1.05170234, 1.06094221, 1.07018209, 1.07942197,\n        1.08866185]),\n <a list of 10 Patch objects>)"
     },
     "execution_count": 6,
     "metadata": {},
     "output_type": "execute_result"
    },
    {
     "data": {
      "text/plain": "<Figure size 432x288 with 1 Axes>",
      "image/png": "[encoded data removed]"
     },
     "metadata": {
      "needs_background": "light"
     },
     "output_type": "display_data"
    }
   ],
   "source": [
    "plt.hist(diffs['mc'])\n",
    "plt.show()\n",
    "plt.hist(diffs['cmps'])"
   ]
  },
  {
   "cell_type": "code",
   "execution_count": 7,
   "metadata": {},
   "outputs": [
    {
     "data": {
      "text/plain": "<matplotlib.collections.PathCollection at 0x7fd023a93340>"
     },
     "execution_count": 7,
     "metadata": {},
     "output_type": "execute_result"
    },
    {
     "data": {
      "text/plain": "<Figure size 432x288 with 1 Axes>",
      "image/png": "[encoded data removed]"
     },
     "metadata": {
      "needs_background": "light"
     },
     "output_type": "display_data"
    }
   ],
   "source": [
    "plt.scatter('mc', 'cmps', data = diffs)"
   ]
  },
  {
   "cell_type": "code",
   "execution_count": 7,
   "metadata": {},
   "outputs": [],
   "source": []
  },
  {
   "cell_type": "markdown",
   "metadata": {},
   "source": [
    "### Expected $\\sqrt n$ Random Runs\n",
    "\n",
    "Again, but with runs filled with"
   ]
  },
  {
   "cell_type": "code",
   "execution_count": 20,
   "metadata": {},
   "outputs": [
    {
     "name": "stdout",
     "output_type": "stream",
     "text": [
      "[(0, 4, True), (4, 6, False), (6, 11, True), (11, 14, False), (14, 16, False)]\n",
      "[4, 2, 5, 3, 2]\n",
      "count    200.000000\n",
      "mean       1.050975\n",
      "std        0.037926\n",
      "min        0.990703\n",
      "1%         0.995265\n",
      "5%         1.003763\n",
      "10%        1.010229\n",
      "25%        1.021294\n",
      "50%        1.044302\n",
      "75%        1.069432\n",
      "max        1.176370\n",
      "Name: mc, dtype: float64\n",
      "count    200.000000\n",
      "mean       0.999077\n",
      "std        0.005172\n",
      "min        0.980672\n",
      "1%         0.986125\n",
      "5%         0.991929\n",
      "10%        0.993534\n",
      "25%        0.996063\n",
      "50%        0.998317\n",
      "75%        1.002422\n",
      "max        1.022445\n",
      "Name: cmps, dtype: float64\n"
     ]
    }
   ],
   "source": [
    "n = 10000\n",
    "reps = 200\n",
    "sqrtn = int(n ** 0.5)\n",
    "\n",
    "import sortstats.runs as runs\n",
    "\n",
    "RNG = random.Random(2348905734)\n",
    "\n",
    "def same_runs_descending(lst):\n",
    "    run_lens = runs.run_lengths(runs.runs(lst))\n",
    "    Inputs.fill_with_asc_runs_deterministic(lst, run_lens, 1)\n",
    "    return lst\n",
    "\n",
    "\n",
    "diffs = differences(reps, lambda: same_runs_descending(Inputs.random_runs(n, sqrtn, RNG)))\n",
    "# print(diffs)\n",
    "print(diffs['mc']  .describe(percentiles=[0.01, 0.05, 0.1, .25, .5, .75]))\n",
    "print(diffs['cmps'].describe(percentiles=[0.01, 0.05, 0.1, .25, .5, .75]))"
   ]
  },
  {
   "cell_type": "code",
   "execution_count": 21,
   "metadata": {},
   "outputs": [
    {
     "data": {
      "text/plain": "<Figure size 432x288 with 1 Axes>",
      "image/png": "[encoded data removed]"
     },
     "metadata": {
      "needs_background": "light"
     },
     "output_type": "display_data"
    },
    {
     "data": {
      "text/plain": "(array([ 1.,  3., 14., 65., 59., 40., 13.,  3.,  1.,  1.]),\n array([0.98067238, 0.98484961, 0.98902683, 0.99320405, 0.99738127,\n        1.00155849, 1.00573572, 1.00991294, 1.01409016, 1.01826738,\n        1.0224446 ]),\n <a list of 10 Patch objects>)"
     },
     "execution_count": 21,
     "metadata": {},
     "output_type": "execute_result"
    },
    {
     "data": {
      "text/plain": "<Figure size 432x288 with 1 Axes>",
      "image/png": "[encoded data removed]"
     },
     "metadata": {
      "needs_background": "light"
     },
     "output_type": "display_data"
    }
   ],
   "source": [
    "plt.hist(diffs['mc'])\n",
    "plt.show()\n",
    "plt.hist(diffs['cmps'])"
   ]
  },
  {
   "cell_type": "code",
   "execution_count": 22,
   "metadata": {},
   "outputs": [
    {
     "data": {
      "text/plain": "<matplotlib.collections.PathCollection at 0x7fd022cffa30>"
     },
     "execution_count": 22,
     "metadata": {},
     "output_type": "execute_result"
    },
    {
     "data": {
      "text/plain": "<Figure size 432x288 with 1 Axes>",
      "image/png": "[encoded data removed]"
     },
     "metadata": {
      "needs_background": "light"
     },
     "output_type": "display_data"
    }
   ],
   "source": [
    "plt.scatter('mc', 'cmps', data = diffs)\n"
   ]
  }
 ],
 "metadata": {
  "kernelspec": {
   "display_name": "Python 3 (ipykernel)",
   "language": "python",
   "name": "python3"
  },
  "language_info": {
   "codemirror_mode": {
    "name": "ipython",
    "version": 3
   },
   "file_extension": ".py",
   "mimetype": "text/x-python",
   "name": "python",
   "nbconvert_exporter": "python",
   "pygments_lexer": "ipython3",
   "version": "3.8.10"
  }
 },
 "nbformat": 4,
 "nbformat_minor": 1
}
