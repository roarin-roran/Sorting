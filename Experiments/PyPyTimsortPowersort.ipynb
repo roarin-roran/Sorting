{
 "cells": [
  {
   "cell_type": "markdown",
   "metadata": {
    "collapsed": true,
    "pycharm": {
     "name": "#%% md\n"
    }
   },
   "source": [
    "# Timsort vs Powersort\n",
    "\n",
    "## Preliminaries\n",
    "\n",
    "2023-03-20 Confirmed that the PyPy implementations of Timsort and Powersort\n",
    "yield the same comparison counts as the CPython implementations.\n",
    "\n",
    "\n",
    "NB: Careful, when checking this we need to run the sorting call of the list through the\n",
    "instrumented cpython copies with print debug enabled, by then we have to run `run_information.py`\n",
    "through the copy of cpython that does *not* print debug info\n",
    "(as the rank reduction induces extra comparisons),\n",
    "but we must use the correct sort implementation to get the correct comparison count.\n",
    "\n",
    "But, long story short, we can use the following two implementations for our purposes,\n",
    "as they yielded identical results.\n"
   ]
  },
  {
   "cell_type": "code",
   "source": [
    "%load_ext autoreload\n",
    "%autoreload 2\n",
    "import Support.Counters as Counters\n",
    "import PyPySorters.listsort_powersort\n",
    "import PyPySorters.listsort_timsort\n",
    "import random\n",
    "\n",
    "random.seed(2348905739)\n",
    "A = list(range(10000))\n",
    "random.shuffle(A)\n",
    "\n",
    "C = [Counters.ComparisonCounter(x) for x in A]\n",
    "print(\"Running Powersort\")\n",
    "Counters.reset_counters()\n",
    "PyPySorters.listsort_powersort.sort(C)\n",
    "Counters.print_counters()\n",
    "C = [Counters.ComparisonCounter(x) for x in A]\n",
    "print(\"Running Timsort\")\n",
    "Counters.reset_counters()\n",
    "PyPySorters.listsort_timsort.sort(C)\n",
    "Counters.print_counters()\n"
   ],
   "metadata": {
    "collapsed": false,
    "pycharm": {
     "name": "#%%\n"
    }
   },
   "execution_count": 1,
   "outputs": [
    {
     "name": "stdout",
     "output_type": "stream",
     "text": [
      "Running Powersort\n",
      "Comparisons: 119877\n",
      "Eq Comparisons: 0\n",
      "MergeCosts: 79760\n",
      "Running Timsort\n",
      "Comparisons: 119954\n",
      "Eq Comparisons: 0\n",
      "MergeCosts: 79840\n"
     ]
    }
   ]
  },
  {
   "cell_type": "markdown",
   "source": [
    "## Experiments\n",
    "\n",
    "Now for a more systematic approach.\n",
    "\n",
    "### Init:"
   ],
   "metadata": {
    "collapsed": false
   }
  },
  {
   "cell_type": "code",
   "execution_count": 2,
   "outputs": [
    {
     "name": "stdout",
     "output_type": "stream",
     "text": [
      "The autoreload extension is already loaded. To reload it, use:\n",
      "  %reload_ext autoreload\n"
     ]
    }
   ],
   "source": [
    "%load_ext autoreload\n",
    "%autoreload 2\n",
    "import random\n",
    "import pandas as pd\n",
    "import matplotlib.pylab as plt\n",
    "\n",
    "import PyPySorters.listsort_powersort as powersort\n",
    "import PyPySorters.listsort_timsort as timsort\n",
    "import Support.Counters as Counters\n",
    "import Inputs.Inputs as Inputs\n",
    "\n",
    "\n",
    "\n",
    "def cost(lst, sorter):\n",
    "    wrapped = [Counters.ComparisonCounter(x) for x in lst]\n",
    "    Counters.reset_counters()\n",
    "    sorter.sort(wrapped)\n",
    "    assert Counters.ComparisonCounter.EQ_COMPARISONS == 0\n",
    "    return {\n",
    "        # 'algo': sorter.name(),\n",
    "        'mc': Counters.MergeCosts.MERGECOST,\n",
    "        'cmps': Counters.ComparisonCounter.COMPARISONS,\n",
    "        'input-hash': hash(tuple(lst)),\n",
    "    }\n",
    "\n",
    "\n",
    "def differences(repetitions, input_generator):\n",
    "    diffs = pd.DataFrame()\n",
    "    for _ in range(repetitions):\n",
    "        A = input_generator()\n",
    "        ps = cost(A, powersort)\n",
    "        ts = cost(A, timsort)\n",
    "        diff = {}\n",
    "        diff['algo'] = 'timsort-powersort'\n",
    "        diff['mc'] = 1.0 * ts['mc'] - ps['mc']\n",
    "        diff['cmps'] = 1.0 * ts['cmps'] - ps['cmps']\n",
    "        diff['mc-powersort'] = ps['mc']\n",
    "        diff['cmps-powersort'] = ps['cmps']\n",
    "        diff['input-hash'] = ps['input-hash']\n",
    "        diffs = diffs.append(diff, ignore_index=True)\n",
    "    return diffs"
   ],
   "metadata": {
    "collapsed": false,
    "pycharm": {
     "name": "#%%\n"
    }
   }
  },
  {
   "cell_type": "markdown",
   "source": [
    "### Random Permutations\n",
    "\n",
    "For random permutations, not too much is saved,\n",
    "but at least we hard do worse.\n"
   ],
   "metadata": {
    "collapsed": false
   }
  },
  {
   "cell_type": "code",
   "execution_count": 3,
   "outputs": [
    {
     "name": "stdout",
     "output_type": "stream",
     "text": [
      "count    200.0\n",
      "mean      80.0\n",
      "std        0.0\n",
      "min       80.0\n",
      "1%        80.0\n",
      "5%        80.0\n",
      "10%       80.0\n",
      "25%       80.0\n",
      "50%       80.0\n",
      "75%       80.0\n",
      "max       80.0\n",
      "Name: mc, dtype: float64\n",
      "count    200.000000\n",
      "mean      79.815000\n",
      "std       24.791609\n",
      "min       16.000000\n",
      "1%        27.950000\n",
      "5%        41.950000\n",
      "10%       48.000000\n",
      "25%       63.000000\n",
      "50%       78.000000\n",
      "75%       96.250000\n",
      "max      152.000000\n",
      "Name: cmps, dtype: float64\n"
     ]
    }
   ],
   "source": [
    "n = 10000\n",
    "sqrtn = int(n ** 0.5)\n",
    "reps = 200\n",
    "\n",
    "RNG = random.Random(2348905734)\n",
    "diffs = differences(reps, lambda: Inputs.random_permutation(n, RNG))\n",
    "#print(diffs)\n",
    "print(diffs['mc']  .describe(percentiles=[0.01, 0.05, 0.1, .25, .5, .75]))\n",
    "print(diffs['cmps'].describe(percentiles=[0.01, 0.05, 0.1, .25, .5, .75]))"
   ],
   "metadata": {
    "collapsed": false,
    "pycharm": {
     "name": "#%%\n"
    }
   }
  },
  {
   "cell_type": "code",
   "execution_count": 4,
   "outputs": [
    {
     "data": {
      "text/plain": "<Figure size 432x288 with 1 Axes>",
      "image/png": "[encoded data removed]"
     },
     "metadata": {
      "needs_background": "light"
     },
     "output_type": "display_data"
    },
    {
     "data": {
      "text/plain": "(array([ 4.,  8., 28., 31., 49., 34., 26., 11.,  7.,  2.]),\n array([ 16. ,  29.6,  43.2,  56.8,  70.4,  84. ,  97.6, 111.2, 124.8,\n        138.4, 152. ]),\n <a list of 10 Patch objects>)"
     },
     "execution_count": 4,
     "metadata": {},
     "output_type": "execute_result"
    },
    {
     "data": {
      "text/plain": "<Figure size 432x288 with 1 Axes>",
      "image/png": "[encoded data removed]"
     },
     "metadata": {
      "needs_background": "light"
     },
     "output_type": "display_data"
    }
   ],
   "source": [
    "plt.hist(diffs['mc'])\n",
    "plt.show()\n",
    "plt.hist(diffs['cmps'])\n"
   ],
   "metadata": {
    "collapsed": false,
    "pycharm": {
     "name": "#%%\n"
    }
   }
  },
  {
   "cell_type": "markdown",
   "source": [
    "### Expected $\\sqrt n$ Random Runs"
   ],
   "metadata": {
    "collapsed": false
   }
  },
  {
   "cell_type": "code",
   "execution_count": 5,
   "outputs": [
    {
     "name": "stdout",
     "output_type": "stream",
     "text": [
      "                  algo    cmps  cmps-powersort    input-hash      mc  \\\n",
      "0    timsort-powersort  3054.0         74054.0  6.644946e+18  3231.0   \n",
      "1    timsort-powersort  2061.0         75134.0  4.226510e+18  2099.0   \n",
      "2    timsort-powersort  1279.0         72777.0 -7.853696e+18   769.0   \n",
      "3    timsort-powersort  1300.0         74309.0  4.236634e+16  1171.0   \n",
      "4    timsort-powersort  4726.0         75889.0 -1.415891e+17  4843.0   \n",
      "..                 ...     ...             ...           ...     ...   \n",
      "195  timsort-powersort  4873.0         75431.0  8.530472e+18  4833.0   \n",
      "196  timsort-powersort  3200.0         74513.0 -5.030300e+18  3975.0   \n",
      "197  timsort-powersort  1888.0         76016.0  3.950142e+18  3994.0   \n",
      "198  timsort-powersort   506.0         73322.0  5.859866e+18   451.0   \n",
      "199  timsort-powersort  2423.0         75438.0 -9.150634e+18  3032.0   \n",
      "\n",
      "     mc-powersort  \n",
      "0         62713.0  \n",
      "1         63630.0  \n",
      "2         62186.0  \n",
      "3         62945.0  \n",
      "4         63879.0  \n",
      "..            ...  \n",
      "195       63918.0  \n",
      "196       63439.0  \n",
      "197       64952.0  \n",
      "198       62421.0  \n",
      "199       64101.0  \n",
      "\n",
      "[200 rows x 6 columns]\n",
      "count      200.000000\n",
      "mean      3228.665000\n",
      "std       2410.102167\n",
      "min       -594.000000\n",
      "1%        -304.820000\n",
      "5%         233.700000\n",
      "10%        641.100000\n",
      "25%       1361.250000\n",
      "50%       2795.500000\n",
      "75%       4440.500000\n",
      "max      11248.000000\n",
      "Name: mc, dtype: float64\n",
      "count     200.000000\n",
      "mean     2265.015000\n",
      "std      1536.906458\n",
      "min      -287.000000\n",
      "1%       -185.040000\n",
      "5%        132.600000\n",
      "10%       396.100000\n",
      "25%      1207.750000\n",
      "50%      2004.500000\n",
      "75%      3163.000000\n",
      "max      6682.000000\n",
      "Name: cmps, dtype: float64\n"
     ]
    }
   ],
   "source": [
    "n = 10000\n",
    "sqrtn = int(n ** 0.5)\n",
    "reps = 200\n",
    "\n",
    "RNG = random.Random(2348905734)\n",
    "diffs = differences(reps, lambda: Inputs.random_runs(n, sqrtn, RNG))\n",
    "print(diffs)\n",
    "print(diffs['mc']  .describe(percentiles=[0.01, 0.05, 0.1, .25, .5, .75]))\n",
    "print(diffs['cmps'].describe(percentiles=[0.01, 0.05, 0.1, .25, .5, .75]))"
   ],
   "metadata": {
    "collapsed": false,
    "pycharm": {
     "name": "#%%\n"
    }
   }
  },
  {
   "cell_type": "code",
   "execution_count": 6,
   "outputs": [
    {
     "data": {
      "text/plain": "<Figure size 432x288 with 1 Axes>",
      "image/png": "[encoded data removed]"
     },
     "metadata": {
      "needs_background": "light"
     },
     "output_type": "display_data"
    },
    {
     "data": {
      "text/plain": "(array([21., 23., 42., 39., 26., 21., 10.,  7.,  7.,  4.]),\n array([-287. ,  409.9, 1106.8, 1803.7, 2500.6, 3197.5, 3894.4, 4591.3,\n        5288.2, 5985.1, 6682. ]),\n <a list of 10 Patch objects>)"
     },
     "execution_count": 6,
     "metadata": {},
     "output_type": "execute_result"
    },
    {
     "data": {
      "text/plain": "<Figure size 432x288 with 1 Axes>",
      "image/png": "[encoded data removed]"
     },
     "metadata": {
      "needs_background": "light"
     },
     "output_type": "display_data"
    }
   ],
   "source": [
    "plt.hist(diffs['mc'])\n",
    "plt.show()\n",
    "plt.hist(diffs['cmps'])"
   ],
   "metadata": {
    "collapsed": false,
    "pycharm": {
     "name": "#%%\n"
    }
   }
  },
  {
   "cell_type": "code",
   "execution_count": 7,
   "outputs": [
    {
     "data": {
      "text/plain": "<matplotlib.collections.PathCollection at 0x7f0d20bc1880>"
     },
     "execution_count": 7,
     "metadata": {},
     "output_type": "execute_result"
    },
    {
     "data": {
      "text/plain": "<Figure size 432x288 with 1 Axes>",
      "image/png": "[encoded data removed]"
     },
     "metadata": {
      "needs_background": "light"
     },
     "output_type": "display_data"
    }
   ],
   "source": [
    "plt.scatter('mc', 'cmps', data = diffs)"
   ],
   "metadata": {
    "collapsed": false,
    "pycharm": {
     "name": "#%%\n"
    }
   }
  },
  {
   "cell_type": "code",
   "execution_count": 7,
   "outputs": [],
   "source": [],
   "metadata": {
    "collapsed": false,
    "pycharm": {
     "name": "#%%\n"
    }
   }
  }
 ],
 "metadata": {
  "kernelspec": {
   "display_name": "Python 3",
   "language": "python",
   "name": "python3"
  },
  "language_info": {
   "codemirror_mode": {
    "name": "ipython",
    "version": 2
   },
   "file_extension": ".py",
   "mimetype": "text/x-python",
   "name": "python",
   "nbconvert_exporter": "python",
   "pygments_lexer": "ipython2",
   "version": "2.7.6"
  }
 },
 "nbformat": 4,
 "nbformat_minor": 0
}